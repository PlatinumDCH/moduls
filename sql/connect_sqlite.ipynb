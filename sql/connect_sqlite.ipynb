{
 "cells": [
  {
   "cell_type": "code",
   "execution_count": null,
   "metadata": {},
   "outputs": [],
   "source": [
    "import sqlite3\n",
    "connection = sqlite3.connect('exemple.db')\n",
    "print('Database connection siccesfull!')\n",
    "\n",
    "connection.close()"
   ]
  },
  {
   "cell_type": "code",
   "execution_count": null,
   "metadata": {},
   "outputs": [],
   "source": [
    "import sqlite3\n",
    "from sqlite3 import Error\n",
    "\n",
    "try:\n",
    "    connection = sqlite3.connect(\n",
    "        'exemple.db',\n",
    "        timeout=10,\n",
    "        detect_types=sqlite3.PARSE_DECLTYPES,\n",
    "        isolation_level='EXLUSIVE'\n",
    "    )\n",
    "    connection.row_factory = sqlite3.Row\n",
    "    print('Advanced connection corectly')\n",
    "    \n",
    "except Error as e:\n",
    "    print('Current error,', e)\n",
    "finally:\n",
    "    if connection:\n",
    "        connection.close()"
   ]
  },
  {
   "cell_type": "code",
   "execution_count": 2,
   "metadata": {},
   "outputs": [
    {
     "name": "stdout",
     "output_type": "stream",
     "text": [
      "[(1, 'John', 25)]\n"
     ]
    }
   ],
   "source": [
    "#in memory datamase connection\n",
    "import sqlite3\n",
    "connection = sqlite3.connect(':memory:')\n",
    "cursor = connection.cursor()\n",
    "\n",
    "cursor.execute('''CREATE TABLE users(\n",
    "                id INTEGER PRIMARY KEY, \n",
    "                name TEXT, age INTEGER)''')\n",
    "\n",
    "# Insert data\n",
    "cursor.execute(\"INSERT INTO users (name, age) VALUES (?, ?)\", (\"John\", 25))\n",
    "connection.commit()\n",
    "\n",
    "# Query data\n",
    "cursor.execute(\"SELECT * FROM users\")\n",
    "print(cursor.fetchall())\n",
    "\n",
    "connection.close()"
   ]
  },
  {
   "cell_type": "code",
   "execution_count": null,
   "metadata": {},
   "outputs": [],
   "source": [
    "#using context meneger\n",
    "import sqlite3\n",
    "\n",
    "def create_table(connection):\n",
    "    cursor = connection.cursor()\n",
    "    cursor.execute('''CREATE TABLE IF NOT EXISTS employees\n",
    "                     (id INTEGER PRIMARY KEY, name TEXT, salary REAL)''')\n",
    "    connection.commit()\n",
    "\n",
    "with sqlite3.connect('company.db') as conn:\n",
    "    create_table(conn)\n",
    "    # Database operations here\n",
    "    print(\"Table created successfully!\")\n"
   ]
  },
  {
   "cell_type": "code",
   "execution_count": null,
   "metadata": {},
   "outputs": [],
   "source": [
    "def create_connection(db_file):\n",
    "    connection = None\n",
    "    try:\n",
    "        connection = sqlite3.connect(db_file)\n",
    "        print(f\"Successfully connected to SQLite version: {sqlite3.version}\")\n",
    "        return connection\n",
    "    except Error as e:\n",
    "        print(f\"Error connecting to database: {e}\")\n",
    "        return None\n",
    "\n",
    "def test_connection(db_file):\n",
    "    conn = create_connection(db_file)\n",
    "    if conn is not None:\n",
    "        try:\n",
    "            # Test query\n",
    "            cursor = conn.cursor()\n",
    "            cursor.execute(\"SELECT 1\")\n",
    "            print(\"Connection test successful!\")\n",
    "        except Error as e:\n",
    "            print(f\"Query error: {e}\")\n",
    "        finally:\n",
    "            conn.close()\n",
    "    else:\n",
    "        print(\"Error: Could not establish database connection.\")\n",
    "\n",
    "# Test the connection\n",
    "test_connection(\"test.db\")\n"
   ]
  }
 ],
 "metadata": {
  "kernelspec": {
   "display_name": "moduls-Bbco25sa-py3.13",
   "language": "python",
   "name": "python3"
  },
  "language_info": {
   "codemirror_mode": {
    "name": "ipython",
    "version": 3
   },
   "file_extension": ".py",
   "mimetype": "text/x-python",
   "name": "python",
   "nbconvert_exporter": "python",
   "pygments_lexer": "ipython3",
   "version": "3.13.1"
  }
 },
 "nbformat": 4,
 "nbformat_minor": 2
}
