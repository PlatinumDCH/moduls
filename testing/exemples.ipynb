{
 "cells": [
  {
   "cell_type": "code",
   "execution_count": null,
   "metadata": {},
   "outputs": [],
   "source": [
    "# реверс всего предложения\n",
    "def revers(word:str):\n",
    "    return word[::-1]\n",
    "\n",
    "def reverse_words(text:str):\n",
    "    words = text.split(' ')\n",
    "    reversed_words = [revers(word) for word in words]\n",
    "    return ' '.join(reversed_words)\n",
    "\n",
    "text = '  double  spaced  words  '\n",
    "result = reverse_words(text)\n",
    "print(result)"
   ]
  },
  {
   "cell_type": "code",
   "execution_count": 2,
   "metadata": {},
   "outputs": [
    {
     "name": "stdout",
     "output_type": "stream",
     "text": [
      "Floor 1:    *   \n",
      "Floor 2:   ***  \n",
      "Floor 3:  ***** \n",
      "Floor 4: *******\n",
      "\n",
      "Final Tower:\n",
      "   *   \n",
      "  ***  \n",
      " ***** \n",
      "*******\n"
     ]
    }
   ],
   "source": [
    "def build_tower(n: int) -> list[str]:\n",
    "    for i in range(1, n + 1):\n",
    "        stars = '*' * (2 * i - 1)\n",
    "        spaces = ' ' * (n - i)\n",
    "        print(f\"Floor {i}: {spaces}{stars}{spaces}\")\n",
    "    print(\"\\nFinal Tower:\")\n",
    "    return [\n",
    "        ' ' * (n - i) + '*' * (2 * i - 1) + ' ' * (n - i)\n",
    "        for i in range(1, n + 1)\n",
    "    ]\n",
    "\n",
    "# Example\n",
    "tower = build_tower(4)\n",
    "for floor in tower:\n",
    "    print(floor)"
   ]
  },
  {
   "cell_type": "code",
   "execution_count": null,
   "metadata": {},
   "outputs": [],
   "source": [
    "#find maximal prefix\n",
    "strs = [\"flowers\", \"flow\", \"flight\"]\n",
    "def common_prefix(strs):\n",
    "    \"\"\"\n",
    "    :type strs list[str]\n",
    "    :rtype str\n",
    "\n",
    "    Сусть в том что если суфикс будет различный\n",
    "    длина сета будет больше 1, после этого возвращаем префикс\n",
    "    \n",
    "    \"\"\"\n",
    "    prefix = ''\n",
    "\n",
    "    for chars in zip(*strs):\n",
    "        if len(set(chars)) > 1:\n",
    "                break\n",
    "        prefix += chars[0]\n",
    "    return prefix # fl\n",
    "\n",
    "    \n"
   ]
  }
 ],
 "metadata": {
  "kernelspec": {
   "display_name": "moduls-Bbco25sa-py3.13",
   "language": "python",
   "name": "python3"
  },
  "language_info": {
   "codemirror_mode": {
    "name": "ipython",
    "version": 3
   },
   "file_extension": ".py",
   "mimetype": "text/x-python",
   "name": "python",
   "nbconvert_exporter": "python",
   "pygments_lexer": "ipython3",
   "version": "3.13.1"
  }
 },
 "nbformat": 4,
 "nbformat_minor": 2
}
