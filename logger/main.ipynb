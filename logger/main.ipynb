{
 "cells": [
  {
   "cell_type": "code",
   "execution_count": 19,
   "metadata": {},
   "outputs": [
    {
     "name": "stderr",
     "output_type": "stream",
     "text": [
      "WARNING:root:This is a warning\n"
     ]
    }
   ],
   "source": [
    "import logging\n",
    "\n",
    "\n",
    "\n",
    "logging.warning('This is a warning')"
   ]
  },
  {
   "cell_type": "code",
   "execution_count": 21,
   "metadata": {},
   "outputs": [],
   "source": [
    "#удалить все обраьотчики\n",
    "for handler in logging.root.handlers[:]:\n",
    "    logging.root.removeHandler(handler)"
   ]
  },
  {
   "cell_type": "code",
   "execution_count": 16,
   "metadata": {},
   "outputs": [
    {
     "name": "stderr",
     "output_type": "stream",
     "text": [
      "2025-01-14 15:05:04,042 An example message.\n",
      "2025-01-14 15:05:04,043 Another message\n"
     ]
    }
   ],
   "source": [
    "import logging\n",
    "\n",
    "\n",
    "\n",
    "logging.basicConfig(\n",
    "    format='%(asctime)s %(message)s',\n",
    "    level=logging.DEBUG,\n",
    "        handlers=[\n",
    "        logging.FileHandler(\"program.log\"),\n",
    "        logging.StreamHandler()\n",
    "    ])\n",
    "logging.warning('An example message.')\n",
    "logging.warning('Another message')\n"
   ]
  },
  {
   "cell_type": "markdown",
   "metadata": {},
   "source": [
    "| Уровень логирования | Описание                                                                                     | Пример использования                                                                 |\n",
    "|----------------------|---------------------------------------------------------------------------------------------|-------------------------------------------------------------------------------------|\n",
    "| `DEBUG`             | Отладочная информация. Используется для детального анализа и диагностики.                   | Логирование переменных, отладка сложных алгоритмов.                                 |\n",
    "| `INFO`              | Общая информация о нормальной работе программы.                                             | Успешный запуск приложения, начало обработки запроса.                              |\n",
    "| `WARNING`           | Предупреждения о потенциальных проблемах, которые не влияют на выполнение программы.         | Использование устаревшего API, превышение лимита.                                  |\n",
    "| `ERROR`             | Ошибки, которые привели к нарушению функциональности, но не остановили приложение.          | Ошибка подключения к базе данных, обработка некорректного ввода.                   |\n",
    "| `CRITICAL`          | Критические ошибки, которые могут привести к завершению работы программы.                   | Полный отказ системы, критическая утечка данных.                                   |\n"
   ]
  },
  {
   "cell_type": "code",
   "execution_count": 22,
   "metadata": {},
   "outputs": [
    {
     "name": "stderr",
     "output_type": "stream",
     "text": [
      "2025-01-14 15:05:21,592 baz1000000011 - result: 600\n"
     ]
    },
    {
     "data": {
      "text/plain": [
       "600"
      ]
     },
     "execution_count": 22,
     "metadata": {},
     "output_type": "execute_result"
    }
   ],
   "source": [
    "\n",
    "logging.basicConfig(\n",
    "    level=logging.DEBUG, \n",
    "    format=\"%(asctime)s %(funcName)s - %(message)s\"\n",
    ")\n",
    "\n",
    "def baz1000000011(num: int):\n",
    "    foo = 100\n",
    "    result = foo + num\n",
    "    logging.debug(f\"result: {result}\")\n",
    "    return result\n",
    "\n",
    "r = baz1000000011(500)\n",
    "r"
   ]
  },
  {
   "cell_type": "code",
   "execution_count": 23,
   "metadata": {},
   "outputs": [],
   "source": [
    "import logging\n",
    "\n",
    "log_format = \"[%(levelname)s] %(asctime)s: %(name)s %(module)s %(funcName)s:%(lineno)d - %(message)s\"\n",
    "\n",
    "file_handler = logging.FileHandler(\"application.log\")\n",
    "file_handler.setLevel(logging.ERROR)\n",
    "file_handler.setFormatter(logging.Formatter(log_format))\n",
    "\n",
    "stream_handler = logging.StreamHandler()\n",
    "stream_handler.setLevel(logging.DEBUG)\n",
    "stream_handler.setFormatter(logging.Formatter(log_format))\n",
    "\n",
    "\n",
    "def get_logger(name, level):\n",
    "    logger = logging.getLogger(name)\n",
    "    logger.setLevel(level)\n",
    "    logger.addHandler(stream_handler)\n",
    "    logger.addHandler(file_handler)\n",
    "\n",
    "    return logger\n",
    "\n",
    "\n",
    "logger = get_logger('my_logger', logging.DEBUG)"
   ]
  },
  {
   "cell_type": "code",
   "execution_count": 24,
   "metadata": {},
   "outputs": [
    {
     "name": "stderr",
     "output_type": "stream",
     "text": [
      "[INFO] 2025-01-14 15:56:41,839: my_logger 1978813090 baz:7 - Start function baz\n",
      "2025-01-14 15:56:41,839 baz - Start function baz\n",
      "[DEBUG] 2025-01-14 15:56:41,842: my_logger 1978813090 baz:10 - result: 600\n",
      "2025-01-14 15:56:41,842 baz - result: 600\n",
      "[ERROR] 2025-01-14 15:56:41,843: my_logger 1978813090 foo:15 - AAAAA!!!!\n",
      "2025-01-14 15:56:41,843 foo - AAAAA!!!!\n"
     ]
    }
   ],
   "source": [
    "import logging\n",
    "\n",
    "logger = get_logger('my_logger', logging.DEBUG)\n",
    "\n",
    "\n",
    "def baz(num: int):\n",
    "    logger.info(f\"Start function baz\")\n",
    "    foo_ = 100\n",
    "    result = foo_ + num\n",
    "    logger.debug(f\"result: {result}\")\n",
    "    return result\n",
    "\n",
    "\n",
    "def foo():\n",
    "    logger.error(\"AAAAA!!!!\")\n",
    "\n",
    "\n",
    "if __name__ == '__main__':\n",
    "    baz(500)\n",
    "    foo()"
   ]
  }
 ],
 "metadata": {
  "kernelspec": {
   "display_name": "moduls-Bbco25sa-py3.13",
   "language": "python",
   "name": "python3"
  },
  "language_info": {
   "codemirror_mode": {
    "name": "ipython",
    "version": 3
   },
   "file_extension": ".py",
   "mimetype": "text/x-python",
   "name": "python",
   "nbconvert_exporter": "python",
   "pygments_lexer": "ipython3",
   "version": "3.13.1"
  }
 },
 "nbformat": 4,
 "nbformat_minor": 2
}
