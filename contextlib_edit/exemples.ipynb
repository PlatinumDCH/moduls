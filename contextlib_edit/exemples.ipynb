{
 "cells": [
  {
   "cell_type": "code",
   "execution_count": 1,
   "metadata": {},
   "outputs": [
    {
     "name": "stdout",
     "output_type": "stream",
     "text": [
      "No, not posible\n",
      "Ok, this is finaly step\n"
     ]
    }
   ],
   "source": [
    "try:\n",
    "    name = 'rubicon' / 2\n",
    "except Exception as e:\n",
    "    print('No, not posible')\n",
    "finally:\n",
    "    print('Ok, this is finaly step')"
   ]
  },
  {
   "cell_type": "code",
   "execution_count": 3,
   "metadata": {},
   "outputs": [
    {
     "name": "stdout",
     "output_type": "stream",
     "text": [
      "No, not posible\n",
      "Ok, this is finaly step\n"
     ]
    }
   ],
   "source": [
    "from contextlib import contextmanager\n",
    "@contextmanager\n",
    "def handler():\n",
    "    try:\n",
    "        yield\n",
    "    except Exception as e:\n",
    "        print('No, not posible')\n",
    "    finally:\n",
    "        print('Ok, this is finaly step')\n",
    "\n",
    "with handler():\n",
    "    name = 'rubicon' / 2"
   ]
  }
 ],
 "metadata": {
  "kernelspec": {
   "display_name": "moduls-Bbco25sa-py3.13",
   "language": "python",
   "name": "python3"
  },
  "language_info": {
   "codemirror_mode": {
    "name": "ipython",
    "version": 3
   },
   "file_extension": ".py",
   "mimetype": "text/x-python",
   "name": "python",
   "nbconvert_exporter": "python",
   "pygments_lexer": "ipython3",
   "version": "3.13.1"
  }
 },
 "nbformat": 4,
 "nbformat_minor": 2
}
