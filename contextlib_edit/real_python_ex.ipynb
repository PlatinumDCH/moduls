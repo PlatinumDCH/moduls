{
 "cells": [
  {
   "cell_type": "code",
   "execution_count": 1,
   "metadata": {},
   "outputs": [],
   "source": [
    "file = open('hello.txt', 'w')\n",
    "file.write('something text')\n",
    "file.close()"
   ]
  },
  {
   "cell_type": "code",
   "execution_count": 2,
   "metadata": {},
   "outputs": [],
   "source": [
    "file = open('hello.txt', 'w')\n",
    "\n",
    "try:\n",
    "    file.write('someting text 2')\n",
    "finally:\n",
    "    file.close()"
   ]
  },
  {
   "cell_type": "code",
   "execution_count": 3,
   "metadata": {},
   "outputs": [],
   "source": [
    "# Safely open the file\n",
    "file = open(\"hello.txt\", \"w\")\n",
    "\n",
    "try:\n",
    "    file.write(\"Hello, World!\")\n",
    "except Exception as e:\n",
    "    print(f\"An error happen while writing to the file: {e}\")\n",
    "finally:\n",
    "    # Make sure to close the file after using it\n",
    "    file.close()"
   ]
  },
  {
   "cell_type": "code",
   "execution_count": 4,
   "metadata": {},
   "outputs": [],
   "source": [
    "with open(\"hello.txt\", mode=\"w\") as file:\n",
    "    file.write(\"writing, use with open\")\n"
   ]
  },
  {
   "cell_type": "code",
   "execution_count": 7,
   "metadata": {},
   "outputs": [],
   "source": [
    "#открытие несколи файлов в одном контекстном менеджере\n",
    "with open(\"input.txt\", \"w\") as in_file, open(\"output.txt\", \"w\") as out_file:\n",
    "    in_file.write('out_file')\n",
    "    out_file.write('input file')\n",
    "    "
   ]
  },
  {
   "cell_type": "code",
   "execution_count": 8,
   "metadata": {},
   "outputs": [],
   "source": [
    "import pathlib\n",
    "file_path = pathlib.Path('hello.txt')\n",
    "\n",
    "with file_path.open('w') as file:\n",
    "    file.write('use file_path / pathlib')"
   ]
  },
  {
   "cell_type": "code",
   "execution_count": null,
   "metadata": {},
   "outputs": [],
   "source": [
    "import pathlib\n",
    "import logging\n",
    "\n",
    "file_path = pathlib.Path('hello.txt')\n",
    "\n",
    "try:\n",
    "    with file_path.open('w') as file:\n",
    "        file.write('user ligger when error happen')\n",
    "except OSError as e:\n",
    "    logging.error('Writing to file %s failed', file_path)\n"
   ]
  },
  {
   "cell_type": "code",
   "execution_count": null,
   "metadata": {},
   "outputs": [],
   "source": [
    "import os\n",
    "\n",
    "with os.scandir('..') as entires:\n",
    "    for x in entires:\n",
    "        print(x.name, '->', x.stat().st_size, 'bytes')\n"
   ]
  }
 ],
 "metadata": {
  "kernelspec": {
   "display_name": "moduls-Bbco25sa-py3.13",
   "language": "python",
   "name": "python3"
  },
  "language_info": {
   "codemirror_mode": {
    "name": "ipython",
    "version": 3
   },
   "file_extension": ".py",
   "mimetype": "text/x-python",
   "name": "python",
   "nbconvert_exporter": "python",
   "pygments_lexer": "ipython3",
   "version": "3.13.1"
  }
 },
 "nbformat": 4,
 "nbformat_minor": 2
}
