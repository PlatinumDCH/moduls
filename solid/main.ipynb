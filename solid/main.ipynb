{
 "cells": [
  {
   "cell_type": "markdown",
   "metadata": {},
   "source": [
    "# SOLID Принципы\n",
    "\n",
    "1. **Single Responsibility Principle (SRP)** — Принцип єдиної відповідальності  \n",
    "   Клас має виконувати тільки одну функцію.  \n",
    "\n",
    "2. **Open-Closed Principle (OCP)** — Принцип відкритості/закритості  \n",
    "   Клас має бути відкритий для розширення, але закритий для модифікації.  \n",
    "\n",
    "3. **Liskov Substitution Principle (LSP)** — Принцип підстановки Барбари Лісков  \n",
    "   Об'єкти мають бути замінними на об'єкти їхніх підкласів без порушення роботи програми.  \n",
    "\n",
    "4. **Interface Segregation Principle (ISP)** — Принцип розділення інтерфейсу  \n",
    "   Клієнти не повинні залежати від інтерфейсів, які вони не використовують.  \n",
    "\n",
    "5. **Dependency Inversion Principle (DIP)** — Принцип інверсії залежностей  \n",
    "   Залежності повинні будуватися від абстракцій, а не від конкретних реалізацій.  \n"
   ]
  },
  {
   "cell_type": "markdown",
   "metadata": {},
   "source": [
    "Single Responsibility Principle"
   ]
  },
  {
   "cell_type": "code",
   "execution_count": 2,
   "metadata": {},
   "outputs": [
    {
     "data": {
      "text/plain": [
       "'1111, Odesa, first'"
      ]
     },
     "execution_count": 2,
     "metadata": {},
     "output_type": "execute_result"
    }
   ],
   "source": [
    "class Person:\n",
    "    def __init__(self, name, zip, city, street):\n",
    "        self.name = name\n",
    "        self.zip = zip\n",
    "        self.city = city\n",
    "        self.street = street\n",
    "    \n",
    "    def get_adress(self):\n",
    "        return f'{self.zip}, {self.city}, {self.street}'\n",
    "\n",
    "person = Person('Dima', '1111', 'Odesa', 'first')\n",
    "person.get_adress()"
   ]
  },
  {
   "cell_type": "code",
   "execution_count": 5,
   "metadata": {},
   "outputs": [
    {
     "name": "stdout",
     "output_type": "stream",
     "text": [
      "111, Odesa, first\n"
     ]
    }
   ],
   "source": [
    "class PersonAddress:\n",
    "    def __init__(self, zip, city, street):\n",
    "        self.zip = zip\n",
    "        self.city = city\n",
    "        self.street = street\n",
    "    \n",
    "    def value_off(self):\n",
    "        return f'{self.zip}, {self.city}, {self.street}'\n",
    "\n",
    "class Person:\n",
    "    def __init__(self, name, address:PersonAddress):\n",
    "        self.name = name\n",
    "        self.address = address\n",
    "    \n",
    "    def get_address(self):\n",
    "        return self.address.value_off()\n",
    "\n",
    "if __name__ == '__main__':\n",
    "    person = Person('Alexander', PersonAddress('111','Odesa', 'first'))\n",
    "    print(person.get_address())\n",
    "    "
   ]
  },
  {
   "cell_type": "markdown",
   "metadata": {},
   "source": [
    "Open-Closed Principle (OCP)"
   ]
  },
  {
   "cell_type": "code",
   "execution_count": 6,
   "metadata": {},
   "outputs": [
    {
     "name": "stdout",
     "output_type": "stream",
     "text": [
      "235.81415022205297\n"
     ]
    }
   ],
   "source": [
    "#fail\n",
    "from math import pi\n",
    "\n",
    "class Rect:\n",
    "    def __init__(self, width, height):\n",
    "        self.width = width\n",
    "        self.height = height\n",
    "\n",
    "class Circle:\n",
    "     def __init__(self, radius):\n",
    "          self.radius = radius\n",
    "\n",
    "def total_area(shapes):\n",
    "    sum = 0\n",
    "    for el in shapes:\n",
    "        if isinstance(el, Rect):\n",
    "            sum += el.width * el.height\n",
    "        if isinstance(el, Circle):\n",
    "            sum += el.radius ** 2 * pi\n",
    "    return sum\n",
    "\n",
    "shapes = [Rect(10,10), Circle(5), Rect(4,5), Rect(3,3), Circle(3)]\n",
    "area = total_area(shapes)\n",
    "print(area)"
   ]
  },
  {
   "cell_type": "code",
   "execution_count": 9,
   "metadata": {},
   "outputs": [
    {
     "name": "stdout",
     "output_type": "stream",
     "text": [
      "235.81415022205297\n"
     ]
    }
   ],
   "source": [
    "#true\n",
    "from math import pi\n",
    "from abc import ABC, abstractmethod\n",
    "\n",
    "class Figure(ABC):\n",
    "\n",
    "    @abstractmethod\n",
    "    def area_of(self):\n",
    "        pass\n",
    "\n",
    "class Rect(Figure):\n",
    "    def __init__(self, width, height):\n",
    "        self.width = width\n",
    "        self.height = height\n",
    "\n",
    "    def area_of(self):\n",
    "        return self.width * self.height\n",
    "\n",
    "class Circle(Figure):\n",
    "    def __init__(self, radius):\n",
    "          self.radius = radius\n",
    "    \n",
    "    def area_of(self):\n",
    "        return self.radius ** 2 * pi\n",
    "\n",
    "\n",
    "def total_area(shapes):\n",
    "    sum = 0\n",
    "    for el in shapes:\n",
    "        sum +=  el.area_of()\n",
    "    return sum\n",
    "\n",
    "shapes = [Rect(10,10), Circle(5), Rect(4,5), Rect(3,3), Circle(3)]\n",
    "area = total_area(shapes)\n",
    "print(area)"
   ]
  },
  {
   "cell_type": "code",
   "execution_count": null,
   "metadata": {},
   "outputs": [],
   "source": [
    "class PaymentPeocessor(ABC):\n",
    "    @abstractmethod\n",
    "    def process_payment(self):\n",
    "        pass\n",
    "\n",
    "class CashPaymentProcessor(PaymentPeocessor):\n",
    "    def process_payment(self):\n",
    "        pass\n",
    "\n",
    "class CreditCardPaymentPeocessor(PaymentPeocessor):\n",
    "    def process_payment(self):\n",
    "        pass\n",
    "\n",
    "class MobilePaymentProcessor(PaymentPeocessor):\n",
    "    def process_payment(self):\n",
    "        pass\n",
    "    "
   ]
  },
  {
   "cell_type": "code",
   "execution_count": 10,
   "metadata": {},
   "outputs": [
    {
     "name": "stdout",
     "output_type": "stream",
     "text": [
      "Square area:  100\n",
      "Rect area:  50\n"
     ]
    }
   ],
   "source": [
    "\n",
    "from abc import ABC, abstractmethod\n",
    "\n",
    "\n",
    "class Figure(ABC):\n",
    "\n",
    "    @abstractmethod\n",
    "    def get_area(self):\n",
    "        pass\n",
    "\n",
    "\n",
    "class Rect(Figure):\n",
    "    def __init__(self, width, height):\n",
    "        self.width = width\n",
    "        self.height = height\n",
    "\n",
    "    def get_area(self):\n",
    "        return self.width * self.height\n",
    "\n",
    "\n",
    "\n",
    "class Square(Figure):\n",
    "    def __init__(self, size):\n",
    "        self.edge = size\n",
    "\n",
    "    def get_area(self):\n",
    "        return self.edge ** 2\n",
    "\n",
    "\n",
    "def get_area_of_shape(figure: Figure):\n",
    "    return figure.get_area()\n",
    "\n",
    "    \n",
    "if __name__ == '__main__':\n",
    "    square = Square(10)\n",
    "    rect = Rect(5, 10)\n",
    "    print('Square area: ', get_area_of_shape(square))\n",
    "    print('Rect area: ', get_area_of_shape(rect))\n"
   ]
  },
  {
   "cell_type": "markdown",
   "metadata": {},
   "source": [
    "interface"
   ]
  },
  {
   "cell_type": "code",
   "execution_count": 12,
   "metadata": {},
   "outputs": [],
   "source": [
    "class OpenDocument:\n",
    "    def open_document(self):\n",
    "        pass\n",
    "\n",
    "class SaveDocument:\n",
    "    def save_document(self):\n",
    "        pass\n",
    "\n",
    "class CloseDocument:\n",
    "    def close_document(self):\n",
    "        pass\n",
    "\n",
    "class FirstDocumentEditor(OpenDocument, CloseDocument):\n",
    "    def open_document(self):\n",
    "        #logic\n",
    "        ...\n",
    "    \n",
    "    def close_document(self):\n",
    "        #logic\n",
    "        ...\n",
    "\n",
    "class SecondDocumentEditor(SaveDocument, CloseDocument):\n",
    "    \n",
    "    def open_document(self):\n",
    "        #logic\n",
    "        ...\n",
    "    \n",
    "    def close_document(self):\n",
    "        #logic\n",
    "        ..."
   ]
  },
  {
   "cell_type": "code",
   "execution_count": null,
   "metadata": {},
   "outputs": [],
   "source": []
  }
 ],
 "metadata": {
  "kernelspec": {
   "display_name": "moduls-Bbco25sa-py3.13",
   "language": "python",
   "name": "python3"
  },
  "language_info": {
   "codemirror_mode": {
    "name": "ipython",
    "version": 3
   },
   "file_extension": ".py",
   "mimetype": "text/x-python",
   "name": "python",
   "nbconvert_exporter": "python",
   "pygments_lexer": "ipython3",
   "version": "3.13.1"
  }
 },
 "nbformat": 4,
 "nbformat_minor": 2
}
