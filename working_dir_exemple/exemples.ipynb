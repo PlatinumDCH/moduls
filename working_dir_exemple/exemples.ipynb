{
 "cells": [
  {
   "cell_type": "code",
   "execution_count": null,
   "metadata": {},
   "outputs": [],
   "source": [
    "# реверс всего предложения\n",
    "def revers(word:str):\n",
    "    return word[::-1]\n",
    "\n",
    "def reverse_words(text:str):\n",
    "    words = text.split(' ')\n",
    "    reversed_words = [revers(word) for word in words]\n",
    "    return ' '.join(reversed_words)\n",
    "\n",
    "text = '  double  spaced  words  '\n",
    "result = reverse_words(text)\n",
    "print(result)"
   ]
  },
  {
   "cell_type": "code",
   "execution_count": 2,
   "metadata": {},
   "outputs": [
    {
     "name": "stdout",
     "output_type": "stream",
     "text": [
      "Floor 1:    *   \n",
      "Floor 2:   ***  \n",
      "Floor 3:  ***** \n",
      "Floor 4: *******\n",
      "\n",
      "Final Tower:\n",
      "   *   \n",
      "  ***  \n",
      " ***** \n",
      "*******\n"
     ]
    }
   ],
   "source": [
    "def build_tower(n: int) -> list[str]:\n",
    "    for i in range(1, n + 1):\n",
    "        stars = '*' * (2 * i - 1)\n",
    "        spaces = ' ' * (n - i)\n",
    "        print(f\"Floor {i}: {spaces}{stars}{spaces}\")\n",
    "    print(\"\\nFinal Tower:\")\n",
    "    return [\n",
    "        ' ' * (n - i) + '*' * (2 * i - 1) + ' ' * (n - i)\n",
    "        for i in range(1, n + 1)\n",
    "    ]\n",
    "\n",
    "# Example\n",
    "tower = build_tower(4)\n",
    "for floor in tower:\n",
    "    print(floor)"
   ]
  },
  {
   "cell_type": "code",
   "execution_count": 18,
   "metadata": {},
   "outputs": [
    {
     "name": "stdout",
     "output_type": "stream",
     "text": [
      "fl\n"
     ]
    }
   ],
   "source": [
    "\n",
    "strs = [\"flowers\", \"flow\", \"flight\"]\n",
    "\n",
    "class Solusion:\n",
    "    \"\"\"fundi minimal sufix\"\"\"\n",
    "    def common_prefix(self, strs:list[str]):\n",
    "        \"\"\"\n",
    "        :type strs list[str]\n",
    "        :rtype str\n",
    "\n",
    "        Сусть в том что если суфикс будет различный\n",
    "        длина сета будет больше 1, после этого возвращаем префикс\n",
    "        \n",
    "        \"\"\"\n",
    "        prefix = ''\n",
    "\n",
    "        for chars in zip(*strs):\n",
    "            if len(set(chars)) > 1:\n",
    "                    break\n",
    "            prefix += chars[0]\n",
    "        return prefix # fl\n",
    "    \n",
    "obj = Solusion()\n",
    "result = obj.common_prefix(strs) # Вывод: fl"
   ]
  },
  {
   "cell_type": "code",
   "execution_count": 13,
   "metadata": {},
   "outputs": [
    {
     "data": {
      "text/plain": [
       "'ьтасипан юицкнуф яароток теавиравовереп еодак оволс'"
      ]
     },
     "execution_count": 13,
     "metadata": {},
     "output_type": "execute_result"
    }
   ],
   "source": [
    "my_sentense = 'написать функцию которая перевоваривает кадое слово'\n",
    "\n",
    "class Solusion:\n",
    "    \n",
    "    def revered_srt(self, my_sentense:str)->str:\n",
    "\n",
    "        my_sentense = my_sentense.split()\n",
    "        reverse_words = [word[::-1] for word in my_sentense]\n",
    "        revered_sentense = ' '.join(reverse_words)\n",
    "        return revered_sentense\n",
    "\n",
    "obj = Solusion()\n",
    "r = obj.revered_srt(my_sentense)\n",
    "r\n"
   ]
  },
  {
   "cell_type": "code",
   "execution_count": 4,
   "metadata": {},
   "outputs": [
    {
     "data": {
      "text/plain": [
       "[5, 4, 3]"
      ]
     },
     "execution_count": 4,
     "metadata": {},
     "output_type": "execute_result"
    }
   ],
   "source": [
    "my_list = [1,2,3,4,5]\n",
    "new_list = my_list[-1:-4:-1]\n",
    "new_list\n"
   ]
  },
  {
   "cell_type": "code",
   "execution_count": 11,
   "metadata": {},
   "outputs": [
    {
     "data": {
      "text/plain": [
       "5"
      ]
     },
     "execution_count": 11,
     "metadata": {},
     "output_type": "execute_result"
    }
   ],
   "source": [
    "\n",
    "matrix = [\n",
    "    [4, 2, 2, -1],\n",
    "    [-1, -1, -2, -3]\n",
    "]\n",
    "class Solusion:\n",
    "    \"\"\"find negative element in matrix\"\"\"\n",
    "    def countNegative(self, grid: list[list[int]])->int:\n",
    "        count = 0 \n",
    "        for i in grid:\n",
    "            for j in i:\n",
    "                if j < 0:\n",
    "                    count += 1\n",
    "        return count\n",
    "\n",
    "obj = Solusion()\n",
    "r = obj.countNegative(matrix)\n",
    "r\n",
    "\n"
   ]
  }
 ],
 "metadata": {
  "kernelspec": {
   "display_name": "moduls-Bbco25sa-py3.13",
   "language": "python",
   "name": "python3"
  },
  "language_info": {
   "codemirror_mode": {
    "name": "ipython",
    "version": 3
   },
   "file_extension": ".py",
   "mimetype": "text/x-python",
   "name": "python",
   "nbconvert_exporter": "python",
   "pygments_lexer": "ipython3",
   "version": "3.13.1"
  }
 },
 "nbformat": 4,
 "nbformat_minor": 2
}
