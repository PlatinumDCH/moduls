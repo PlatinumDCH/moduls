{
 "cells": [
  {
   "cell_type": "code",
   "execution_count": 1,
   "metadata": {},
   "outputs": [],
   "source": [
    "import random\n",
    "\n",
    "\n",
    "def get_arr(\n",
    "        size_arr:int = 15,\n",
    "        start:int = 1,\n",
    "        end:int = 10)->list[int]:\n",
    "    \"\"\"\n",
    "    получить список с заданными характеристикасми\n",
    "\n",
    "    size_arr - размер массива\n",
    "    start - начало диапазона\n",
    "    end - конец диапазона\n",
    "    \"\"\"\n",
    "    return [\n",
    "        random.randint(\n",
    "            start,end\n",
    "            )\n",
    "              for _ in range(size_arr)\n",
    "        ]\n",
    "    \n",
    "def get_lenght(arr:list):\n",
    "    return len(arr)"
   ]
  },
  {
   "cell_type": "code",
   "execution_count": 5,
   "metadata": {},
   "outputs": [],
   "source": [
    "def get_result(sort_algo):\n",
    "    arr = get_arr()\n",
    "    print(arr)\n",
    "    result = sort_algo(arr)\n",
    "    print(arr)\n",
    "    return result\n"
   ]
  },
  {
   "cell_type": "markdown",
   "metadata": {},
   "source": [
    "__bublesort__\n",
    "\n",
    "| Тип сложности    | Сложность    |\n",
    "|------------------|--------------|\n",
    "| Средний случай   | O(n²)        |\n",
    "| Лучший случай    | O(n)         |\n",
    "| Худший случай    | O(n²)        |\n",
    "| Пространственная сложность | O(1) |\n"
   ]
  },
  {
   "cell_type": "code",
   "execution_count": 6,
   "metadata": {},
   "outputs": [
    {
     "name": "stdout",
     "output_type": "stream",
     "text": [
      "[10, 2, 10, 10, 2, 10, 5, 4, 7, 2, 7, 1, 7, 1, 4]\n",
      "[1, 1, 2, 2, 2, 4, 4, 5, 7, 7, 7, 10, 10, 10, 10]\n"
     ]
    }
   ],
   "source": [
    "def bubble_sort(arr:list)->list:\n",
    "    n = get_lenght(arr)\n",
    "\n",
    "    for i in range(n-1):\n",
    "        for j in range(0, n-i-1):\n",
    "            if arr[j]>arr[j+1]:\n",
    "\n",
    "                arr[j],arr[j+1] = arr[j+1],arr[j]\n",
    "    return arr\n",
    "\n",
    "get_result(bubble_sort)"
   ]
  },
  {
   "cell_type": "markdown",
   "metadata": {},
   "source": [
    "__insertionsort__\n",
    "| Тип сложности    | Сложность    |\n",
    "|------------------|--------------|\n",
    "| Средний случай   | O(n²)        |\n",
    "| Лучший случай    | O(n)         |\n",
    "| Худший случай    | O(n²)        |\n",
    "| Пространственная сложность | O(1) |"
   ]
  },
  {
   "cell_type": "code",
   "execution_count": 8,
   "metadata": {},
   "outputs": [
    {
     "name": "stdout",
     "output_type": "stream",
     "text": [
      "[5, 7, 4, 3, 8, 3, 7, 7, 4, 4, 6, 9, 2, 6, 3]\n",
      "[2, 3, 3, 3, 4, 4, 4, 5, 6, 6, 7, 7, 7, 8, 9]\n"
     ]
    }
   ],
   "source": [
    "def insertion_sort(arr:list) -> list:\n",
    "    n = get_lenght(arr)\n",
    "    for i in range(1,n):\n",
    "        temp = arr[i]\n",
    "        j = i - 1\n",
    "        while j >= 0 and temp < arr[j]:\n",
    "            arr[j+1] = arr[j]\n",
    "            j = j - 1\n",
    "        arr[j+1] = temp\n",
    "    return arr\n",
    "\n",
    "get_result(insertion_sort)"
   ]
  },
  {
   "cell_type": "markdown",
   "metadata": {},
   "source": [
    "shell_sort"
   ]
  },
  {
   "cell_type": "code",
   "execution_count": 22,
   "metadata": {},
   "outputs": [
    {
     "data": {
      "text/plain": [
       "[1, 2, 7, 9, 10]"
      ]
     },
     "execution_count": 22,
     "metadata": {},
     "output_type": "execute_result"
    }
   ],
   "source": [
    "def shellsort(arr:list) -> list:\n",
    "    n = get_lenght(arr)\n",
    "    gap = n//2\n",
    "\n",
    "    while gap > 0:\n",
    "        for i in range(gap, n):\n",
    "            temp_element = arr[i]\n",
    "            j = i\n",
    "            while j >= gap and temp_element < arr[j - gap]:\n",
    "                arr[j] = arr[j - gap]\n",
    "                j = j - gap\n",
    "            arr[j] = temp_element\n",
    "        gap = gap//2\n",
    "    return arr\n",
    "    \n",
    "arr = get_arr(5)\n",
    "r = shellsort(arr)\n",
    "r"
   ]
  },
  {
   "cell_type": "markdown",
   "metadata": {},
   "source": [
    "__selectionsort__\n",
    "| Тип сложности          | Сложность |\n",
    "|------------------------|-----------|\n",
    "| Средний случай         | O(n²)     |\n",
    "| Лучший случай          | O(n²)     |\n",
    "| Худший случай          | O(n²)     |\n",
    "| Пространственная сложность | O(1)   |\n"
   ]
  },
  {
   "cell_type": "code",
   "execution_count": 7,
   "metadata": {},
   "outputs": [
    {
     "name": "stdout",
     "output_type": "stream",
     "text": [
      "[1, 9, 3, 6, 8, 8, 5, 7, 7, 5, 1, 3, 3, 10, 7]\n",
      "[1, 1, 3, 3, 3, 5, 5, 6, 7, 7, 7, 8, 8, 9, 10]\n"
     ]
    }
   ],
   "source": [
    "def selection_sort(arr:list)->list:\n",
    "    n = get_lenght(arr)\n",
    "    for i in range(n):\n",
    "        min_index = i\n",
    "        for j in range(i+1, n):\n",
    "            if arr[j] < arr[min_index]:\n",
    "                min_index = j\n",
    "        \n",
    "        arr[i], arr[min_index] = arr[min_index], arr[i]\n",
    "\n",
    "    return arr\n",
    "\n",
    "get_result(selection_sort)"
   ]
  },
  {
   "cell_type": "markdown",
   "metadata": {},
   "source": [
    "quicksort\n",
    "| Тип сложности          | Сложность    |\n",
    "|------------------------|--------------|\n",
    "| Средний случай         | O(n log n)   |\n",
    "| Лучший случай          | O(n log n)   |\n",
    "| Худший случай          | O(n²)        |\n",
    "| Пространственная сложность | O(log n)   |\n"
   ]
  },
  {
   "cell_type": "code",
   "execution_count": 12,
   "metadata": {},
   "outputs": [
    {
     "name": "stdout",
     "output_type": "stream",
     "text": [
      "[1, 4, 8, 1, 6, 5, 7, 4, 8, 5, 5, 1, 3, 2, 6]\n",
      "[1, 1, 1, 2, 3, 4, 4, 5, 5, 5, 6, 6, 7, 8, 8]\n"
     ]
    }
   ],
   "source": [
    "def quick_sort(arr:list)->list:\n",
    "    n = get_lenght(arr)\n",
    "    if n <= 1:\n",
    "        return arr\n",
    "    \n",
    "    selected_el = arr[n//2]\n",
    "\n",
    "    left_part = [\n",
    "        el \n",
    "        for el in arr\n",
    "        if el < selected_el\n",
    "    ]\n",
    "\n",
    "    middle_part = [\n",
    "        el\n",
    "        for el in arr\n",
    "        if el == selected_el\n",
    "    ]\n",
    "\n",
    "    right_part = [\n",
    "        el\n",
    "        for el in arr\n",
    "        if el > selected_el\n",
    "    ]\n",
    "\n",
    "    return quick_sort(left_part) + middle_part + quick_sort(right_part)\n",
    "\n",
    "arr = get_arr()\n",
    "print(arr)\n",
    "result = quick_sort(arr)\n",
    "print(result)"
   ]
  },
  {
   "cell_type": "markdown",
   "metadata": {},
   "source": [
    "merge sort"
   ]
  },
  {
   "cell_type": "code",
   "execution_count": 13,
   "metadata": {},
   "outputs": [
    {
     "name": "stdout",
     "output_type": "stream",
     "text": [
      "[7, 6, 8, 1, 1, 6, 5, 5, 9, 3, 10, 10, 4, 2, 1]\n",
      "[1, 1, 1, 2, 3, 4, 5, 5, 6, 6, 7, 8, 9, 10, 10]\n"
     ]
    }
   ],
   "source": [
    "def mergesort(arr:list)->list:\n",
    "    n = get_lenght(arr)\n",
    "    if n <= 1:\n",
    "        return arr\n",
    "    \n",
    "    midle_el = n // 2\n",
    "    left_half = arr[:midle_el]\n",
    "    right_half = arr[midle_el:]\n",
    "\n",
    "    return merge(mergesort(left_half), mergesort(right_half))\n",
    "\n",
    "\n",
    "def merge(left_part:list, right_part:list)->list:\n",
    "    merged = []\n",
    "    left_index = 0\n",
    "    right_index = 0\n",
    "\n",
    "    #сравнение елементов из двух частей\n",
    "    while left_index < len(left_part) and right_index < len(right_part):\n",
    "\n",
    "        if left_part[left_index] <= right_part[right_index]:\n",
    "            merged.append(left_part[left_index])\n",
    "            left_index += 1\n",
    "\n",
    "        else:\n",
    "            merged.append(right_part[right_index])\n",
    "            right_index += 1\n",
    "\n",
    "    #добавляем оставшейся елементы из левой части\n",
    "    while left_index < len(left_part):\n",
    "        merged.append(left_part[left_index])\n",
    "        left_index += 1\n",
    "    \n",
    "    #добавляем оставшейся елементы из правой части\n",
    "    while right_index < len(right_part):\n",
    "        merged.append(right_part[right_index])\n",
    "        right_index += 1\n",
    "\n",
    "    return merged\n",
    "\n",
    "arr = get_arr()\n",
    "print(arr)\n",
    "r = mergesort(arr)\n",
    "print(r)\n"
   ]
  }
 ],
 "metadata": {
  "kernelspec": {
   "display_name": "moduls-Bbco25sa-py3.13",
   "language": "python",
   "name": "python3"
  },
  "language_info": {
   "codemirror_mode": {
    "name": "ipython",
    "version": 3
   },
   "file_extension": ".py",
   "mimetype": "text/x-python",
   "name": "python",
   "nbconvert_exporter": "python",
   "pygments_lexer": "ipython3",
   "version": "3.13.1"
  }
 },
 "nbformat": 4,
 "nbformat_minor": 2
}
