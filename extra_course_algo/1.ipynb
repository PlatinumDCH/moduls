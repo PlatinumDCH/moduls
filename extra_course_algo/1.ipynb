{
 "cells": [
  {
   "cell_type": "code",
   "execution_count": 4,
   "metadata": {},
   "outputs": [
    {
     "name": "stdout",
     "output_type": "stream",
     "text": [
      "[1 2 3 4]\n",
      "[3 4 5 6]\n",
      "[3 5 7 9]\n"
     ]
    }
   ],
   "source": [
    "import numpy as np\n",
    "arr = np.array([1,2,3,4])\n",
    "\n",
    "print(arr)\n",
    "\n",
    "print(arr + 2)\n",
    "\n",
    "arr2 = np.array([2,3,4,5])\n",
    "\n",
    "print(arr2+arr)\n",
    "\n",
    "#np.meam(arr) среднее значение\n",
    "\n"
   ]
  },
  {
   "cell_type": "code",
   "execution_count": 5,
   "metadata": {},
   "outputs": [
    {
     "name": "stdout",
     "output_type": "stream",
     "text": [
      "2\n",
      "1\n"
     ]
    }
   ],
   "source": [
    "a = np.array([\n",
    "    [1,2,3,4],\n",
    "    [5,6,7,8],\n",
    "    [9,10,11,12]\n",
    "])\n",
    "print(a.ndim) # вывдит какой мерности массим 2-х мерный одномерный  и тд.\n",
    "a = np.array([1,2,3,4])\n",
    "print(a.ndim)"
   ]
  },
  {
   "cell_type": "code",
   "execution_count": 6,
   "metadata": {},
   "outputs": [
    {
     "name": "stdout",
     "output_type": "stream",
     "text": [
      "(3, 4)\n"
     ]
    }
   ],
   "source": [
    "a = np.array([\n",
    "    [1,2,3,4],\n",
    "    [5,6,7,8],\n",
    "    [9,10,11,12]\n",
    "])\n",
    "print(a.shape)# количество столбцов и сколько елементов в каждой строке"
   ]
  },
  {
   "cell_type": "code",
   "execution_count": 10,
   "metadata": {},
   "outputs": [
    {
     "name": "stdout",
     "output_type": "stream",
     "text": [
      "12\n"
     ]
    }
   ],
   "source": [
    "a = np.array([\n",
    "    [1,2,3,4],\n",
    "    [5,6,7,8],\n",
    "    [9,10,11,12]\n",
    "])\n",
    "print(a.size) # общее количество елементов"
   ]
  },
  {
   "cell_type": "code",
   "execution_count": 11,
   "metadata": {},
   "outputs": [
    {
     "name": "stdout",
     "output_type": "stream",
     "text": [
      "int64\n"
     ]
    }
   ],
   "source": [
    "a = np.array([\n",
    "    [1,2,3,4],\n",
    "    [5,6,7,8],\n",
    "    [9,10,11,12]\n",
    "])\n",
    "print(a.dtype) # возвращает тип"
   ]
  },
  {
   "cell_type": "code",
   "execution_count": 13,
   "metadata": {},
   "outputs": [
    {
     "name": "stdout",
     "output_type": "stream",
     "text": [
      "[ 1  6 11]\n"
     ]
    }
   ],
   "source": [
    "a = np.array([\n",
    "    [1,2,3,4],\n",
    "    [5,6,7,8],\n",
    "    [9,10,11,12]\n",
    "])\n",
    "print(a.diagonal()) # в скобках можно указать индекс начала диагонали\n"
   ]
  },
  {
   "cell_type": "code",
   "execution_count": 15,
   "metadata": {},
   "outputs": [
    {
     "name": "stdout",
     "output_type": "stream",
     "text": [
      "78\n"
     ]
    }
   ],
   "source": [
    "a = np.array([\n",
    "    [1,2,3,4],\n",
    "    [5,6,7,8],\n",
    "    [9,10,11,12]\n",
    "])\n",
    "print(a.sum())"
   ]
  },
  {
   "cell_type": "code",
   "execution_count": 17,
   "metadata": {},
   "outputs": [
    {
     "name": "stdout",
     "output_type": "stream",
     "text": [
      "6.5\n"
     ]
    }
   ],
   "source": [
    "a = np.array([\n",
    "    [1,2,3,4],\n",
    "    [5,6,7,8],\n",
    "    [9,10,11,12]\n",
    "])\n",
    "print(a.mean()) #возвращает средне арифметическое всех элементов массива\n",
    "\"\"\"\n",
    "a.mean\n",
    "a.max\n",
    "\"\"\"\n",
    "a.argmin # значение с 0 индексом\n",
    "a.argmax # значение с 11 индксом "
   ]
  },
  {
   "cell_type": "code",
   "execution_count": 18,
   "metadata": {},
   "outputs": [
    {
     "name": "stdout",
     "output_type": "stream",
     "text": [
      "[[0 0 0 0]\n",
      " [0 0 0 0]]\n"
     ]
    }
   ],
   "source": [
    "a = np.zeros((2,4), int) # задать массив, заполнить нулями\n",
    "print(a) "
   ]
  },
  {
   "cell_type": "code",
   "execution_count": 19,
   "metadata": {},
   "outputs": [
    {
     "name": "stdout",
     "output_type": "stream",
     "text": [
      "[[1. 1. 1.]\n",
      " [1. 1. 1.]]\n"
     ]
    }
   ],
   "source": [
    "a = np.ones((2, 3))\n",
    "print(\n",
    "    a\n",
    ")"
   ]
  },
  {
   "cell_type": "code",
   "execution_count": 20,
   "metadata": {},
   "outputs": [
    {
     "name": "stdout",
     "output_type": "stream",
     "text": [
      "[[ 1.  2.  3.  4.]\n",
      " [ 5.  6.  7.  8.]\n",
      " [ 9. 10. 11. 12.]]\n"
     ]
    }
   ],
   "source": [
    "a = np.array([\n",
    "    [1, 2, 3, 4.0],\n",
    "    [5, 6, 7, 8],\n",
    "    [9, 10, 11, 12]\n",
    "    ])\n",
    "b = np.copy(a)\n",
    "print(b)\n",
    "\n",
    "\"\"\"\n",
    "a = np.array([\n",
    "    [1, 2, 3, 4.0],\n",
    "    [5, 6, 7, 8],\n",
    "    [9, 10, 11, 12]\n",
    "    ])\n",
    "b = np.array(a, copy=True)\n",
    "print(b)\n",
    "\"\"\""
   ]
  },
  {
   "cell_type": "code",
   "execution_count": 21,
   "metadata": {},
   "outputs": [
    {
     "name": "stdout",
     "output_type": "stream",
     "text": [
      "[[1. 0. 0. 0.]\n",
      " [0. 1. 0. 0.]\n",
      " [0. 0. 1. 0.]\n",
      " [0. 0. 0. 1.]]\n"
     ]
    }
   ],
   "source": [
    "a = np.eye(4) #создаёт квадратную матрицу\n",
    "print(a)\n"
   ]
  },
  {
   "cell_type": "code",
   "execution_count": 23,
   "metadata": {},
   "outputs": [
    {
     "name": "stdout",
     "output_type": "stream",
     "text": [
      "[[ 0.84147098  0.91294525  0.         -0.2794155 ]\n",
      " [-0.95892427 -0.7568025   0.6569866   0.98935825]\n",
      " [ 0.41211849  0.         -0.04424268  0.        ]\n",
      " [ 0.90929743 -0.7568025  -0.95892427 -0.2794155 ]]\n",
      "\n",
      "[[ 0.54030231  0.40808206  1.          0.96017029]\n",
      " [ 0.28366219 -0.65364362  0.75390225 -0.14550003]\n",
      " [-0.91113026  1.         -0.99902081  1.        ]\n",
      " [-0.41614684 -0.65364362  0.28366219  0.96017029]]\n",
      "\n",
      "[[ 1.55740772  2.23716094  0.         -0.29100619]\n",
      " [-3.38051501  1.15782128  0.87144798 -6.79971146]\n",
      " [-0.45231566  0.          0.04428604  0.        ]\n",
      " [-2.18503986  1.15782128 -3.38051501 -0.29100619]]\n",
      "\n",
      "0.8509035245341184\n",
      "\n",
      "-0.4480736161291702\n",
      "\n",
      "1.6197751905438615\n"
     ]
    }
   ],
   "source": [
    "a = np.array([[1, 20, 0, 6],\n",
    "[5, 4, 7, 8.0],\n",
    "[9, 0, 110,0],\n",
    "[2, 4, 5, 6]])\n",
    "print(np.sin(a))\n",
    "print()\n",
    "print(np.cos(a))\n",
    "print()\n",
    "print(np.tan(a))\n",
    "print()\n",
    "print(np.sin(45))\n",
    "print()\n",
    "print(np.cos(90))\n",
    "print()\n",
    "print(np.tan(45))"
   ]
  },
  {
   "cell_type": "code",
   "execution_count": 25,
   "metadata": {},
   "outputs": [
    {
     "name": "stdout",
     "output_type": "stream",
     "text": [
      "[[ 1.          4.47213595  0.          2.44948974]\n",
      " [ 2.23606798  2.          2.64575131  2.82842712]\n",
      " [ 3.          0.         10.48808848  0.        ]\n",
      " [ 1.41421356  2.          2.23606798  2.44948974]]\n",
      "\n",
      "5.0\n"
     ]
    }
   ],
   "source": [
    "a = np.array([[1, 20, 0, 6],\n",
    "[5, 4, 7, 8.0],\n",
    "[9, 0, 110,0],\n",
    "[2, 4, 5, 6]])\n",
    "print(np.sqrt(a))\n",
    "print()\n",
    "print(np.sqrt(25))"
   ]
  },
  {
   "cell_type": "code",
   "execution_count": 26,
   "metadata": {},
   "outputs": [
    {
     "name": "stdout",
     "output_type": "stream",
     "text": [
      "[2.     2.3    2.5    3.     4.     5.     6.     7.     7.0101 9.    ]\n"
     ]
    }
   ],
   "source": [
    "b = np.array([[2, 3, 5, 6],\n",
    "[3, 2, 7, 9],\n",
    "[2.3, 6, 6, 7.0101],\n",
    "[2.5, 5, 4, 5.0]])\n",
    "print(np.unique(b))"
   ]
  },
  {
   "cell_type": "code",
   "execution_count": 27,
   "metadata": {},
   "outputs": [
    {
     "name": "stdout",
     "output_type": "stream",
     "text": [
      "[[  1   3   6  20]\n",
      " [  4   5   7   8]\n",
      " [  9  10  12 110]\n",
      " [  2   4   5   6]]\n"
     ]
    }
   ],
   "source": [
    "a = np.array([[1, 20, 3, 6],\n",
    "[5, 4, 7, 8],\n",
    "[9, 10, 110, 12],\n",
    "[2, 4, 5, 6]])\n",
    "\n",
    "print(np.sort(a)) #сортировка построчно"
   ]
  },
  {
   "cell_type": "code",
   "execution_count": 28,
   "metadata": {},
   "outputs": [
    {
     "name": "stdout",
     "output_type": "stream",
     "text": [
      "[[  1   4   3   6]\n",
      " [  2   4   5   6]\n",
      " [  5  10   7   8]\n",
      " [  9  20 110  12]]\n"
     ]
    }
   ],
   "source": [
    "a = np.array([[1, 20, 3, 6],\n",
    "[5, 4, 7, 8],\n",
    "[9, 10, 110, 12],\n",
    "[2, 4, 5, 6]])\n",
    "print(np.sort(a, 0)) #сортировка по столбцам"
   ]
  }
 ],
 "metadata": {
  "kernelspec": {
   "display_name": "moduls-Bbco25sa-py3.13",
   "language": "python",
   "name": "python3"
  },
  "language_info": {
   "codemirror_mode": {
    "name": "ipython",
    "version": 3
   },
   "file_extension": ".py",
   "mimetype": "text/x-python",
   "name": "python",
   "nbconvert_exporter": "python",
   "pygments_lexer": "ipython3",
   "version": "3.13.1"
  }
 },
 "nbformat": 4,
 "nbformat_minor": 2
}
